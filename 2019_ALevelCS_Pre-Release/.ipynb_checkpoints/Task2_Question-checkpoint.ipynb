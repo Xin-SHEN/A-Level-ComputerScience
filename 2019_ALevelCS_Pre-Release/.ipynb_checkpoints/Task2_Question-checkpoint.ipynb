{
 "cells": [
  {
   "cell_type": "markdown",
   "metadata": {},
   "source": [
    "# Cambridge Assessment International Education\n",
    "Cambridge International Advanced Subsidiary and Advanced Level\n",
    "\n",
    "***\n",
    "*COMPUTER SCIENCE*\n",
    "\n",
    "Paper 2 Fundamental Problem-solving and Programming Skills.\n",
    "\n",
    "PRE-RELEASE MATERIAL\n",
    "\n",
    "No Additional Materials are required.\n",
    "### This material should be given to the relevant teachers and candidates as soon as it has been received at the Centre.\n",
    "***\n",
    "#### READ THESE INSTRUCTIONS FIRST\n",
    "Candidates should use this material in preparation for the examination. Candidates should attempt the\n",
    "practical programming tasks using their chosen high-level, procedural programming language.\n",
    "Teachers and candidates should read this material prior to the June 2019 examination for 9608 Paper 2.\n",
    "\n",
    "#### Reminders\n",
    "The syllabus states:\n",
    "* there will be questions on the examination paper which do not relate to this pre-release material.\n",
    "* you must choose a high-level programming language from this list:\n",
    "    * Visual Basic (console mode)\n",
    "    * Python\n",
    "    * Pascal / Delphi (console mode)"
   ]
  },
  {
   "cell_type": "markdown",
   "metadata": {},
   "source": [
    "## TASK 2 – Files\n",
    "### Introduction\n",
    "Candidates should be able to write programs to process text file data both in pseudocode and their\n",
    "chosen programming language. It is suggested that each task is planned using pseudocode before\n",
    "writing it in program code."
   ]
  },
  {
   "cell_type": "markdown",
   "metadata": {},
   "source": [
    "### TASK 2.1\n",
    "Define a structure for a text file that could be used to store information about each student as a string.\n",
    "Each line of the file will contain a single string.\n",
    "\n",
    "Store at least two pieces of information. For example, you could store each student’s ID together with\n",
    "their email address as follows:\n",
    "\n",
    "> <StudentID\\>'#'<EmailAddress\\>\n",
    "\n",
    "Define a fixed format for the Student ID, for example, two letters followed by four numbers.\n",
    "An example string with this format would be:\n",
    "> \"AB1234#Jim99@email.com\"\n",
    "\n",
    "Write program code to:\n",
    "    1. open a new text file\n",
    "    2. prompt and input a Student ID and email address (validate if required)\n",
    "    3. form the string as shown\n",
    "    4. write the string to the file\n",
    "    5. repeat from step 2 for all students in the class\n",
    "    6. close the file\n",
    "Check the contents of the file using a text editor."
   ]
  },
  {
   "cell_type": "markdown",
   "metadata": {},
   "source": [
    "### TASK 2.2\n",
    "Write a second program to search the file for a given Student ID and output the email address if the ID\n",
    "was found, or a suitable message if the ID was not found."
   ]
  },
  {
   "cell_type": "markdown",
   "metadata": {},
   "source": [
    "### TASK 2.3\n",
    "Modify the search code to also perform a substring match on the Student ID. For example, search for\n",
    "all the Student IDs that begin with “AB”."
   ]
  },
  {
   "cell_type": "markdown",
   "metadata": {},
   "source": [
    "### TASK 2.4\n",
    "Modify the program to allow the details of additional students to be appended to the file."
   ]
  },
  {
   "cell_type": "markdown",
   "metadata": {},
   "source": [
    "### TASK 2.5\n",
    "Modify the file structure to store different pieces of information on different lines of the file.\n",
    "For example:\n",
    "\n",
    "|File line|Information|Example data|\n",
    "|---|---|---|\n",
    "|1| Student ID   | \"AB1234\"|\n",
    "|2| Email Address| \"TimSmith1099@email.com\"|\n",
    "|3| Home Address | \"1020 Red Canyon Road, Porthcawl\"|\n",
    "|4| Tutor        | \"Kim Lee\"|\n"
   ]
  },
  {
   "cell_type": "markdown",
   "metadata": {},
   "source": [
    "### TASK 2.6\n",
    "Modify your program to work with the new structure."
   ]
  }
 ],
 "metadata": {
  "kernelspec": {
   "display_name": "Python 3",
   "language": "python",
   "name": "python3"
  },
  "language_info": {
   "codemirror_mode": {
    "name": "ipython",
    "version": 3
   },
   "file_extension": ".py",
   "mimetype": "text/x-python",
   "name": "python",
   "nbconvert_exporter": "python",
   "pygments_lexer": "ipython3",
   "version": "3.6.5"
  }
 },
 "nbformat": 4,
 "nbformat_minor": 2
}
