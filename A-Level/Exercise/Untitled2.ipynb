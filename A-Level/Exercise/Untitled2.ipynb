{
 "cells": [
  {
   "cell_type": "code",
   "execution_count": 20,
   "metadata": {},
   "outputs": [
    {
     "name": "stdout",
     "output_type": "stream",
     "text": [
      "100\n",
      "最大的数是 996\n",
      "[4, 7, 9, 16, 26, 31, 66, 71, 104, 131, 154, 155, 172, 185, 194, 195, 199, 199, 206, 209, 210, 215, 226, 231, 237, 239, 240, 271, 277, 285, 300, 306, 309, 318, 330, 338, 350, 352, 382, 391, 407, 426, 432, 451, 453, 454, 461, 467, 474, 491, 492, 496, 509, 511, 526, 549, 555, 576, 592, 594, 619, 620, 638, 644, 646, 650, 660, 668, 675, 677, 707, 711, 714, 726, 747, 748, 760, 761, 766, 789, 791, 818, 822, 842, 854, 881, 882, 892, 901, 902, 910, 930, 938, 961, 966, 969, 981, 984, 996, 996]\n"
     ]
    }
   ],
   "source": [
    "import random\n",
    "\n",
    "# 对一个列表，插入一百个随机数\n",
    "_list = []\n",
    "_count = 0\n",
    "for x in range(0,100,1):\n",
    "    _list.append(random.randint(0,1000))\n",
    "print(len(_list))\n",
    "\n",
    "# 打印这一百个随机数\n",
    "_count = 0\n",
    "while _count<100:\n",
    "    #print(_list[_count])\n",
    "    _count +=1\n",
    "\n",
    "# 找到这一百个数里最大的数\n",
    "_max = 0\n",
    "for x in range(100):\n",
    "    if _max < _list[x]:\n",
    "        _max = _list[x]\n",
    "print('最大的数是',_max)\n",
    "\n",
    "# 对这一百个数排序\n",
    "interCounter = 100 - 1\n",
    "for x in range(99):\n",
    "    for y in range (interCounter):\n",
    "        if _list[y]>_list[y+1]:\n",
    "            temp = _list[y]\n",
    "            _list[y] = _list[y+1]\n",
    "            _list[y+1] = temp\n",
    "    interCounter -=1\n",
    "print(_list)"
   ]
  },
  {
   "cell_type": "code",
   "execution_count": 14,
   "metadata": {},
   "outputs": [
    {
     "name": "stdout",
     "output_type": "stream",
     "text": [
      "原始列表 :  ['Google', 'Runoob', 1997, 2000]\n",
      "删除第三个元素 :  ['Google', 'Runoob', 2000]\n"
     ]
    }
   ],
   "source": [
    "list = ['Google', 'Runoob', 1997, 2000]\n",
    " \n",
    "print (\"原始列表 : \", list)\n",
    "del list[2]\n",
    "print (\"删除第三个元素 : \", list)"
   ]
  },
  {
   "cell_type": "code",
   "execution_count": 10,
   "metadata": {},
   "outputs": [
    {
     "name": "stdout",
     "output_type": "stream",
     "text": [
      "1_2_3_"
     ]
    }
   ],
   "source": [
    "for x in [1, 2, 3]: print(x, end=\"_\")"
   ]
  },
  {
   "cell_type": "code",
   "execution_count": 11,
   "metadata": {},
   "outputs": [
    {
     "name": "stdout",
     "output_type": "stream",
     "text": [
      "2\n"
     ]
    }
   ],
   "source": [
    "list = ['Google', 'Runoob', 1997, 2000] \n",
    "print(list.index(1997))"
   ]
  },
  {
   "cell_type": "code",
   "execution_count": null,
   "metadata": {},
   "outputs": [],
   "source": []
  }
 ],
 "metadata": {
  "kernelspec": {
   "display_name": "Python 3",
   "language": "python",
   "name": "python3"
  },
  "language_info": {
   "codemirror_mode": {
    "name": "ipython",
    "version": 3
   },
   "file_extension": ".py",
   "mimetype": "text/x-python",
   "name": "python",
   "nbconvert_exporter": "python",
   "pygments_lexer": "ipython3",
   "version": "3.6.5"
  }
 },
 "nbformat": 4,
 "nbformat_minor": 2
}
