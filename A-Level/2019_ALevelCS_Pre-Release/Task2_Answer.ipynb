{
 "cells": [
  {
   "cell_type": "markdown",
   "metadata": {},
   "source": [
    "# Cambridge Assessment International Education\n",
    "Cambridge International Advanced Subsidiary and Advanced Level\n",
    "\n",
    "***\n",
    "*COMPUTER SCIENCE*\n",
    "\n",
    "Paper 2 Fundamental Problem-solving and Programming Skills.\n",
    "\n",
    "PRE-RELEASE MATERIAL\n",
    "\n",
    "No Additional Materials are required.\n",
    "### This material should be given to the relevant teachers and candidates as soon as it has been received at the Centre.\n",
    "***\n",
    "#### READ THESE INSTRUCTIONS FIRST\n",
    "Candidates should use this material in preparation for the examination. Candidates should attempt the\n",
    "practical programming tasks using their chosen high-level, procedural programming language.\n",
    "Teachers and candidates should read this material prior to the June 2019 examination for 9608 Paper 2.\n",
    "\n",
    "#### Reminders\n",
    "The syllabus states:\n",
    "* there will be questions on the examination paper which do not relate to this pre-release material.\n",
    "* you must choose a high-level programming language from this list:\n",
    "    * Visual Basic (console mode)\n",
    "    * Python\n",
    "    * Pascal / Delphi (console mode)"
   ]
  },
  {
   "cell_type": "markdown",
   "metadata": {},
   "source": [
    "## TASK 2 – Files\n",
    "### Introduction\n",
    "Candidates should be able to write programs to process text file data both in pseudocode and their\n",
    "chosen programming language. It is suggested that each task is planned using pseudocode before\n",
    "writing it in program code."
   ]
  },
  {
   "cell_type": "markdown",
   "metadata": {},
   "source": [
    "> 老师提醒\n",
    "\n",
    "|模式|r |r+|w |w+|a |a+|\n",
    "|---|---|---|---|---|---|---|\n",
    "|读|+|+||+||+|\n",
    "|写||+|+|+|+|+|\n",
    "|创建|||+|+|+|+|\n",
    "|覆盖|||+|+||\n",
    "|指针在开始|+|+|+|+||\n",
    "|指针在结尾|||||+|+|"
   ]
  },
  {
   "cell_type": "markdown",
   "metadata": {},
   "source": [
    "### TASK 2.1\n",
    "Define a structure for a text file that could be used to store information about each student as a string.\n",
    "Each line of the file will contain a single string.\n",
    "\n",
    "Store at least two pieces of information. For example, you could store each student’s ID together with\n",
    "their email address as follows:\n",
    "\n",
    "> <StudentID\\>'#'<EmailAddress\\>\n",
    "\n",
    "Define a fixed format for the Student ID, for example, two letters followed by four numbers.\n",
    "An example string with this format would be:\n",
    "> \"AB1234#Jim99@email.com\"\n",
    "\n",
    "Write program code to:\n",
    "    1. open a new text file\n",
    "    2. prompt and input a Student ID and email address (validate if required)\n",
    "    3. form the string as shown\n",
    "    4. write the string to the file\n",
    "    5. repeat from step 2 for all students in the class\n",
    "    6. close the file\n",
    "Check the contents of the file using a text editor."
   ]
  },
  {
   "cell_type": "code",
   "execution_count": 1,
   "metadata": {},
   "outputs": [],
   "source": [
    "#文件路径\n",
    "filePath = 'Task2.1.txt'\n",
    "# 打开文件，模式是 append\n",
    "file = open(filePath, 'w')\n",
    "\n",
    "# 重复 输入学生的姓名和Email\n",
    "while True:\n",
    "    name = input('Please enter a student\\'s ID(enter\\'xxx\\' will terminate this input process):') \n",
    "    # 如果输入“xxx”，使用“break”关键词结束循环\n",
    "    if(name=='xxx') : break\n",
    "    email = input('Please enter her/his email:')\n",
    "    # 使用“#” 来隔开学生姓名和Email地址。\n",
    "    element = name + '#' + email\n",
    "    # 写入一行\n",
    "    file.write(element)\n",
    "    # 插入一个换行符\n",
    "    file.write('\\n')\n",
    "# 关闭文件\n",
    "file.close()"
   ]
  },
  {
   "cell_type": "markdown",
   "metadata": {},
   "source": [
    "### TASK 2.2\n",
    "Write a second program to search the file for a given Student ID and output the email address if the ID\n",
    "was found, or a suitable message if the ID was not found."
   ]
  },
  {
   "cell_type": "code",
   "execution_count": 7,
   "metadata": {},
   "outputs": [
    {
     "name": "stdout",
     "output_type": "stream",
     "text": [
      "None suitable student found.\n"
     ]
    }
   ],
   "source": [
    "filePath = 'Task2.1.txt'\n",
    "# 打开文件，模式是 read\n",
    "file = open(filePath, mode='r')\n",
    "\n",
    "searchName = input('Please enter a Student ID:')\n",
    "\n",
    "# 将默认结果设置成False\n",
    "found = False\n",
    "# 将文件中所有的行都读取进来，然后使用 for 循环，每一次循环，s 都是一行\n",
    "for s in file.readlines():\n",
    "    # 使用 split 函数，将文本隔开，放到 info 这个列表里\n",
    "    info = s.split('#')\n",
    "    # 如果info[0]，也就是学生名字等于我们要找的名字\n",
    "    if searchName == info[0]:\n",
    "        # 那么将搜索结果设置成 True\n",
    "        found = True\n",
    "        print('This student\\'s email is :',info[1])\n",
    "# 如果一个结果都没有找到，打印出“没找到”\n",
    "if found == False : print('None suitable student found.')\n",
    "# 关闭文件\n",
    "file.close()"
   ]
  },
  {
   "cell_type": "markdown",
   "metadata": {},
   "source": [
    "### TASK 2.3\n",
    "Modify the search code to also perform a substring match on the Student ID. For example, search for\n",
    "all the Student IDs that begin with “AB”."
   ]
  },
  {
   "cell_type": "code",
   "execution_count": 11,
   "metadata": {},
   "outputs": [
    {
     "name": "stdout",
     "output_type": "stream",
     "text": [
      "Result:\n",
      "| StudentID | Email |\n",
      "|  AB001  |  AlexSmith@email.com  |\n",
      "|  AB002  |  BobAscher@email.com  |\n",
      "|  AB003  |  AlexSmith@email.com  |\n",
      "|  AB004  |  AliceSmith@email.com  |\n"
     ]
    }
   ],
   "source": [
    "filePath = 'Task2.1.txt'\n",
    "file = open(filePath, mode='r')\n",
    "\n",
    "searchName = input('Please enter a Student ID:')\n",
    "\n",
    "found = False\n",
    "print('Result:')\n",
    "print('| StudentID | Email |')\n",
    "for s in file.readlines():\n",
    "    # 使用 split 函数，将文本隔开，放到 info 这个列表里\n",
    "    info = s.split('#')\n",
    "    # 使用 find 函数进行查找，如果找到结果，那么 find 函数就会返回序号，并且这个序号一定不是 -1\n",
    "    if s.find(searchName) != -1:\n",
    "        found = True\n",
    "        print('| ',info[0],' | ',info[1],' |')\n",
    "if found == False : print('None suitable student found.')\n",
    "file.close()"
   ]
  },
  {
   "cell_type": "markdown",
   "metadata": {},
   "source": [
    "### TASK 2.4\n",
    "Modify the program to allow the details of additional students to be appended to the file."
   ]
  },
  {
   "cell_type": "code",
   "execution_count": 12,
   "metadata": {},
   "outputs": [],
   "source": [
    "filePath = 'Task2.1.txt'\n",
    "# 打开文件，模式为 append\n",
    "file = open(filePath, mode='a+')\n",
    "\n",
    "# 不断添加学生信息，直到输入xxx\n",
    "while True:\n",
    "    name = input('Please enter a student\\'s ID(enter\\'xxx\\' will terminate this input process):') \n",
    "    if(name=='xxx') : break\n",
    "    email = input('Please enter her/his email:')\n",
    "    element = name + '#' + email\n",
    "    file.write(element)\n",
    "    file.write('\\n')\n",
    "file.close()"
   ]
  },
  {
   "cell_type": "markdown",
   "metadata": {},
   "source": [
    "### TASK 2.5\n",
    "Modify the file structure to store different pieces of information on different lines of the file.\n",
    "For example:\n",
    "\n",
    "|File line|Information|Example data|\n",
    "|---|---|---|\n",
    "|1| Student ID   | \"AB1234\"|\n",
    "|2| Email Address| \"TimSmith1099@email.com\"|\n",
    "|3| Home Address | \"1020 Red Canyon Road, Porthcawl\"|\n",
    "|4| Tutor        | \"Kim Lee\"|\n"
   ]
  },
  {
   "cell_type": "markdown",
   "metadata": {},
   "source": [
    "### TASK 2.6\n",
    "Modify your program to work with the new structure."
   ]
  },
  {
   "cell_type": "markdown",
   "metadata": {},
   "source": [
    "> Answer Part I : Create File and Append content to the file"
   ]
  },
  {
   "cell_type": "code",
   "execution_count": 13,
   "metadata": {},
   "outputs": [],
   "source": [
    "filePath = 'Task2.6.txt'\n",
    "file = open(filePath, mode='a+')\n",
    "\n",
    "while True:\n",
    "    Name = input('Please enter a student\\'s ID \\n (enter \\'xxx\\' will terminate this input process):') \n",
    "    if(Name=='xxx') : break        \n",
    "    Email = input('Please enter her/his email:')    \n",
    "    HomeAddress = input('Please enter her/his HomeAddress:')    \n",
    "    Tutor = input('Please enter her/his Tutor:')  \n",
    "\n",
    "    # 使用 “\\n”来换行\n",
    "    element = Name + '\\n' + Email + '\\n' + HomeAddress + '\\n' + Tutor\n",
    "    file.write(element)\n",
    "file.close()"
   ]
  },
  {
   "cell_type": "markdown",
   "metadata": {},
   "source": [
    "> Answer Part II : SubString matching Search"
   ]
  },
  {
   "cell_type": "code",
   "execution_count": 3,
   "metadata": {},
   "outputs": [
    {
     "data": {
      "text/plain": [
       "array([['AB0001', 'alex@email.com', 'street1building1', 'Xin'],\n",
       "       ['AB0002', 'alice@email.com', 's2b2', 'Joe'],\n",
       "       ['AB0003', 'allen@email.com', 's3b3', 'Joe'],\n",
       "       ['AC0003', 'bob@email.com', 's4b4', 'Xin']], dtype='<U16')"
      ]
     },
     "execution_count": 3,
     "metadata": {},
     "output_type": "execute_result"
    }
   ],
   "source": [
    "# 处理数据，使用一个叫 numpy 的类库，并给numpy取一个别名叫 np。\n",
    "import numpy as np\n",
    "\n",
    "# 打开文件，模式是 read\n",
    "studentfile = open(\"Task2.6.txt\",\"r\")\n",
    "\n",
    "# 将文件里的所有行，全部读取进来\n",
    "lines = studentfile.readlines()\n",
    "# 使用 np.array() 函数将读取进来的数据转化成 numpy 数组。\n",
    "lines = np.array( [c for c in lines ])\n",
    "# 使用 reshape（）函数将“一维数组” 转化成 一个四列的“二维数组”\n",
    "lines = lines.reshape(-1,4)\n",
    "\n",
    "# 上面三行的内容可以合并成下面这行代码，是一种合并写法。\n",
    "lines = np.array([l for l in studentfile.readlines()]).reshape(-1,4)\n",
    "\n",
    "lines"
   ]
  },
  {
   "cell_type": "code",
   "execution_count": 2,
   "metadata": {},
   "outputs": [
    {
     "name": "stdout",
     "output_type": "stream",
     "text": [
      "Result:\n",
      "| StudentID | Email | HomeAddress | Tutor |\n",
      "-------------------------\n",
      "|  AB0002  |  alice@email.com  |  s2b2  |  Joe  | \n"
     ]
    }
   ],
   "source": [
    "studentID=input(\"Please enter the student ID you want to search:\")\n",
    "found=False\n",
    "\n",
    "print('Result:')\n",
    "print('| StudentID | Email | HomeAddress | Tutor |')\n",
    "print('-------------------------')\n",
    "\n",
    "for info in lines:\n",
    "    if info[0] == studentID:\n",
    "        found = True\n",
    "        print('| ',info[0],' | ',info[1],' | ', info[2],' | ', info[3],' | ')\n",
    "        \n",
    "if found == False : print('None suitable student found.')"
   ]
  }
 ],
 "metadata": {
  "kernelspec": {
   "display_name": "Python 3",
   "language": "python",
   "name": "python3"
  },
  "language_info": {
   "codemirror_mode": {
    "name": "ipython",
    "version": 3
   },
   "file_extension": ".py",
   "mimetype": "text/x-python",
   "name": "python",
   "nbconvert_exporter": "python",
   "pygments_lexer": "ipython3",
   "version": "3.6.5"
  }
 },
 "nbformat": 4,
 "nbformat_minor": 2
}
