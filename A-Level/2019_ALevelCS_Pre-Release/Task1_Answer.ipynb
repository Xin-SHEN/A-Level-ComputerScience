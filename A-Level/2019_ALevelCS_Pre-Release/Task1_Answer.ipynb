{
 "cells": [
  {
   "cell_type": "markdown",
   "metadata": {},
   "source": [
    "# Cambridge Assessment International Education\n",
    "Cambridge International Advanced Subsidiary and Advanced Level\n",
    "\n",
    "***\n",
    "*COMPUTER SCIENCE*\n",
    "\n",
    "Paper 2 Fundamental Problem-solving and Programming Skills.\n",
    "\n",
    "PRE-RELEASE MATERIAL\n",
    "\n",
    "No Additional Materials are required.\n",
    "### This material should be given to the relevant teachers and candidates as soon as it has been received at the Centre.\n",
    "***\n",
    "#### READ THESE INSTRUCTIONS FIRST\n",
    "Candidates should use this material in preparation for the examination. Candidates should attempt the\n",
    "practical programming tasks using their chosen high-level, procedural programming language.\n",
    "Teachers and candidates should read this material prior to the June 2019 examination for 9608 Paper 2.\n",
    "\n",
    "#### Reminders\n",
    "The syllabus states:\n",
    "* there will be questions on the examination paper which do not relate to this pre-release material.\n",
    "* you must choose a high-level programming language from this list:\n",
    "    * Visual Basic (console mode)\n",
    "    * Python\n",
    "    * Pascal / Delphi (console mode)"
   ]
  },
  {
   "cell_type": "markdown",
   "metadata": {},
   "source": [
    "## TASK 1 – Arrays\n",
    "### Introduction\n",
    "Candidates should be able to write programs to process array data both in pseudocode and in their chosen programming language. It is suggested that each task is planned using pseudocode before writing it in program code.\n",
    "\n",
    "#### TASK 1.1\n",
    "A 1D array of STRING data type will be used to store the name of each student in a class together with\n",
    "their email address as follows:\n",
    ">        <StudentName>'#'<EmailAddress>\n",
    "\n",
    "An example string with this format would be:\n",
    "\"Eric Smythe#eric@email.com\"\n",
    "Write program code to:\n",
    "1. declare the array\n",
    "2. prompt and input name and email address\n",
    "3. form the string as shown\n",
    "4. write the string to the next array element\n",
    "5. repeat from step 2 for all students in the class\n",
    "6. output each element of the array in a suitable format, together with explanatory text such as column headings"
   ]
  },
  {
   "cell_type": "code",
   "execution_count": 3,
   "metadata": {},
   "outputs": [
    {
     "data": {
      "text/plain": [
       "['a#a@com', 'b#b@b.com', 'c#C@c.om']"
      ]
     },
     "execution_count": 3,
     "metadata": {},
     "output_type": "execute_result"
    }
   ],
   "source": [
    "_list = []\n",
    "rogueValue = False\n",
    "while rogueValue == False:\n",
    "    name = input('Please enter a student\\'s name(enter\\'xxx\\' will terminate this input process):') \n",
    "    if(name=='xxx') : break\n",
    "    email = input('Please enter her/his email:')\n",
    "    element = name + '#' + email\n",
    "    _list.append(element)\n",
    "_list"
   ]
  },
  {
   "cell_type": "code",
   "execution_count": 4,
   "metadata": {},
   "outputs": [
    {
     "data": {
      "text/plain": [
       "7"
      ]
     },
     "execution_count": 4,
     "metadata": {},
     "output_type": "execute_result"
    }
   ],
   "source": [
    "# 查找子字符串\n",
    "_str = 'jupyter#jupyter@163.com#21'\n",
    "a = _str.find('#')\n",
    "a"
   ]
  },
  {
   "cell_type": "code",
   "execution_count": 29,
   "metadata": {},
   "outputs": [
    {
     "name": "stdout",
     "output_type": "stream",
     "text": [
      "name | email\n",
      "a  |  1\n",
      "b  |  2\n",
      "c  |  3\n"
     ]
    }
   ],
   "source": [
    "print('name | email')\n",
    "for i in range(len(_list)):\n",
    "    index = _list[i].find('#')\n",
    "    print(_list[i][:index],' | ',_list[i][index+1:])"
   ]
  },
  {
   "cell_type": "code",
   "execution_count": 32,
   "metadata": {},
   "outputs": [
    {
     "name": "stdout",
     "output_type": "stream",
     "text": [
      "name | email\n",
      "a  |  1\n",
      "b  |  2\n",
      "c  |  3\n"
     ]
    }
   ],
   "source": [
    "print('name | email')\n",
    "for student in _list:\n",
    "    index = student.find('#')\n",
    "    print(student[:index],' | ',student[index+1:])"
   ]
  },
  {
   "cell_type": "code",
   "execution_count": 33,
   "metadata": {},
   "outputs": [
    {
     "name": "stdout",
     "output_type": "stream",
     "text": [
      "7\n",
      "7\n",
      "-1\n"
     ]
    }
   ],
   "source": [
    "str1 = \"Runoob example....wow!!!\"\n",
    "str2 = \"exam\";\n",
    " \n",
    "print (str1.find(str2))\n",
    "print (str1.find(str2, 5))\n",
    "print (str1.find(str2, 10))"
   ]
  },
  {
   "cell_type": "markdown",
   "metadata": {},
   "source": [
    "### TASK 1.2\n",
    "Consider what happens when a student leaves the class and their data item is deleted from the array.\n",
    "Decide on a way of identifying unused array elements and only output elements that contain student\n",
    "details. Modify your program to include this."
   ]
  },
  {
   "cell_type": "code",
   "execution_count": 7,
   "metadata": {},
   "outputs": [
    {
     "name": "stdout",
     "output_type": "stream",
     "text": [
      "Find this student: b#b@email.com . She/he leaves the class.\n"
     ]
    }
   ],
   "source": [
    "# 假设现在已经有了一个学生列表： ['a#a@email.com', 'b#b@email.com', 'c#c@email.com']\n",
    "_list = ['a#a@email.com', 'b#b@email.com', 'c#c@email.com']\n",
    "\n",
    "# 输入一个名字\n",
    "name_input  = input('Please enter a name for search:')\n",
    "# 在学生列表中枚举\n",
    "for s in _list:\n",
    "    # 把每个学生的名字从元素中切割出来\n",
    "    index = s.find('#')\n",
    "    name = s[:index]\n",
    "    # 如果输入的名字等于这个名字\n",
    "    if name_input == name:\n",
    "        # 打印出这个名字\n",
    "        print('Find this student:',s,'. She/he leaves the class.')"
   ]
  },
  {
   "cell_type": "markdown",
   "metadata": {},
   "source": [
    "### TASK 1.3\n",
    "Extend your program so that after assigning values to the array, the program will prompt the user to\n",
    "input a name, and then search the array to find that name and output the corresponding email address."
   ]
  },
  {
   "cell_type": "code",
   "execution_count": 9,
   "metadata": {},
   "outputs": [
    {
     "name": "stdout",
     "output_type": "stream",
     "text": [
      "b's email address is:  b@email.com\n"
     ]
    }
   ],
   "source": [
    "# 输入一个名字\n",
    "name_input  = input('Please enter a name for search:')\n",
    "# 在学生列表中枚举\n",
    "for s in _list:\n",
    "    # 把每个学生的名字从元素中切割出来\n",
    "    index = s.find('#')\n",
    "    name = s[:index]\n",
    "    # 如果输入的名字等于这个名字\n",
    "    if name_input == name:\n",
    "        # 打印出这个名字\n",
    "        print(name + '\\'s email address is: ', s[index+1:])"
   ]
  },
  {
   "cell_type": "markdown",
   "metadata": {},
   "source": [
    "### TASK 1.4\n",
    "Modify your program so that it will:\n",
    "* prompt the user to input part, or the whole, of a name\n",
    "* search the whole array to find the search term within the <StudentName\\> string\n",
    "* for each array element in which the search term is found within the <StudentName\\> string, output\n",
    "the element in a suitable format."
   ]
  },
  {
   "cell_type": "code",
   "execution_count": 16,
   "metadata": {},
   "outputs": [
    {
     "name": "stdout",
     "output_type": "stream",
     "text": [
      "Search Result List\n",
      "Name   |   Email\n",
      "applesmith |  apple@email.com\n",
      "allensmith |  allen@email.com\n",
      "alexsmith |  alex@email.com\n"
     ]
    }
   ],
   "source": [
    "# 假设现在已经有了一个学生列表： ['applesmith#apple@email.com', 'allensmith#allen@email.com', 'alexsmith#alex@email.com']\n",
    "_list = ['applesmith#apple@email.com', 'allensmith#allen@email.com', 'alexsmith#alex@email.com']\n",
    "# 输入一个名字\n",
    "name_input  = input('Please enter a name for search:')\n",
    "\n",
    "# 打印一个表头\n",
    "print('Search Result List')\n",
    "print('Name   |   Email')\n",
    "\n",
    "notFound = True\n",
    "# 在学生列表中枚举\n",
    "for s in _list:\n",
    "    # 把每个学生的名字从元素中切割出来\n",
    "    index = s.find('#')\n",
    "    name = s[:index]\n",
    "    # 如果输入的名字等于这个名字\n",
    "    if name.find(name_input)!=-1:\n",
    "        # 打印出这个名字\n",
    "        print(name + ' | ', s[index+1:])\n",
    "        notFound = False\n",
    "\n",
    "# 如果一个人都没有找到\n",
    "if notFound:\n",
    "    print('\\# Name not found.')"
   ]
  },
  {
   "cell_type": "markdown",
   "metadata": {},
   "source": [
    "### Task 1.5\n",
    "Convert your design to use a 2D array and add additional pieces of information for each student.\n",
    "For example:\n",
    "\n",
    "| Array element | Information | Example data |\n",
    "| --- | --- | --- |\n",
    "|MyArray[1,1]| Student Name| \"Tim Smith\"|\n",
    "|MyArray[1,2]| Email Address| \"TimSmith1099@email.com\"|\n",
    "|MyArray[1,3]| Date of Birth| \"15/05/2001\"|\n",
    "|MyArray[1,4]| Student ID| \"C3452-B\"|\n"
   ]
  },
  {
   "cell_type": "code",
   "execution_count": 2,
   "metadata": {},
   "outputs": [
    {
     "data": {
      "text/plain": [
       "[['Tim Smith', 'TimSmith1099@email.com', '15/05/2011', 'C3452-B'],\n",
       " ['Apple Smith', 'AppleSmith1099@email.com', '06/07/2012', 'C3453-B'],\n",
       " ['Alex Smith', 'AlexSmith1099@email.com', '06/08/2012', 'C3452-B']]"
      ]
     },
     "execution_count": 2,
     "metadata": {},
     "output_type": "execute_result"
    }
   ],
   "source": [
    "_studentList = []\n",
    "_student = ['Tim Smith', 'TimSmith1099@email.com','15/05/2011','C3452-B']\n",
    "_studentList.append(_student)\n",
    "_student = ['Apple Smith', 'AppleSmith1099@email.com','06/07/2012','C3453-B']\n",
    "_studentList.append(_student)\n",
    "_student = ['Alex Smith', 'AlexSmith1099@email.com','06/08/2012','C3452-B']\n",
    "_studentList.append(_student)\n",
    "_studentList"
   ]
  },
  {
   "cell_type": "markdown",
   "metadata": {},
   "source": [
    "### TASK 1.6\n",
    "Modify your program to work with the new structure"
   ]
  },
  {
   "cell_type": "code",
   "execution_count": 4,
   "metadata": {},
   "outputs": [
    {
     "data": {
      "text/plain": [
       "[['AppleSmith', 'apple@email.com', '01/01/2011', 'C0001'],\n",
       " ['AliceSmith', 'alice@email.como', '02/02/2011', 'C0002'],\n",
       " ['BobAscher', 'bob@email.com', '03/03/2011', 'C0003'],\n",
       " ['AlexSmith', 'alex@email.com', '04/04/2011', 'C0004']]"
      ]
     },
     "execution_count": 4,
     "metadata": {},
     "output_type": "execute_result"
    }
   ],
   "source": [
    "_list = []\n",
    "while True:\n",
    "    student = []\n",
    "    name = input('Please enter a student\\'s name \\n (enter \\'xxx\\' will terminate this input process):') \n",
    "    if(name=='xxx') : break\n",
    "    student.append(name)\n",
    "    email = input('Please enter her/his email:')\n",
    "    student.append(email)\n",
    "    DoB = input('Please enter her/his Date of Birth:')\n",
    "    student.append(DoB)\n",
    "    sID = input('Please enter her/his Student\\'s ID:')\n",
    "    student.append(sID)\n",
    "    _list.append(student)\n",
    "_list"
   ]
  },
  {
   "cell_type": "raw",
   "metadata": {},
   "source": [
    "Output Save:\n",
    "[['AppleSmith', 'apple@email.com', '01/01/2011', 'C0001'],\n",
    " ['AliceSmith', 'alice@email.como', '02/02/2011', 'C0002'],\n",
    " ['BobAscher', 'bob@email.com', '03/03/2011', 'C0003'],\n",
    " ['AlexSmith', 'alex@email.com', '04/04/2011', 'C0004']]"
   ]
  },
  {
   "cell_type": "code",
   "execution_count": 4,
   "metadata": {},
   "outputs": [
    {
     "name": "stdout",
     "output_type": "stream",
     "text": [
      "Search Result List\n",
      "Name   |   Email  | Date of Birth | Student ID\n",
      "AppleSmith | apple@email.com | 01/01/2011 | C0001\n",
      "AliceSmith | alice@email.como | 02/02/2011 | C0002\n",
      "AlexSmith | alex@email.com | 04/04/2011 | C0004\n"
     ]
    }
   ],
   "source": [
    "_list = [['AppleSmith', 'apple@email.com', '01/01/2011', 'C0001'],\n",
    " ['AliceSmith', 'alice@email.como', '02/02/2011', 'C0002'],\n",
    " ['BobAscher', 'bob@email.com', '03/03/2011', 'C0003'],\n",
    " ['AlexSmith', 'alex@email.com', '04/04/2011', 'C0004']]\n",
    "\n",
    "# 输入一个名字\n",
    "name_input  = input('Please enter a name for search:')\n",
    "\n",
    "# 打印一个表头\n",
    "print('Search Result List')\n",
    "print('Name   |   Email  | Date of Birth | Student ID')\n",
    "\n",
    "# 标记是否找到至少一个结果\n",
    "notFound = True\n",
    "# 在学生列表中枚举\n",
    "for s in _list:    \n",
    "    name = s[0]\n",
    "    # 如果输入的名字等于这个名字\n",
    "    if name.find(name_input)!=-1:\n",
    "        # 打印出这个名字\n",
    "        print(s[0],'|',s[1],'|',s[2],'|',s[3])\n",
    "        notFound = False\n",
    "\n",
    "# 如果一个人都没有找到\n",
    "if notFound:\n",
    "    print('\\# Name not found.')"
   ]
  }
 ],
 "metadata": {
  "kernelspec": {
   "display_name": "Python 3",
   "language": "python",
   "name": "python3"
  },
  "language_info": {
   "codemirror_mode": {
    "name": "ipython",
    "version": 3
   },
   "file_extension": ".py",
   "mimetype": "text/x-python",
   "name": "python",
   "nbconvert_exporter": "python",
   "pygments_lexer": "ipython3",
   "version": "3.6.5"
  }
 },
 "nbformat": 4,
 "nbformat_minor": 2
}
