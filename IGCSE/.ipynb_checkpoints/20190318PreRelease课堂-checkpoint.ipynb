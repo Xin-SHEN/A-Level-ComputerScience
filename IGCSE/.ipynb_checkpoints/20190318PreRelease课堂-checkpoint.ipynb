{
 "cells": [
  {
   "cell_type": "code",
   "execution_count": 8,
   "metadata": {},
   "outputs": [
    {
     "name": "stdout",
     "output_type": "stream",
     "text": [
      "['a', 'b', 'c']\n"
     ]
    }
   ],
   "source": [
    "# 初始化 ： 物品数量\n",
    "n = 0\n",
    "while n <3: # Validation 1:拍卖物品数量不可以少于3件\n",
    "    n = int(input('Enter the total number of items'))\n",
    "    if(n<3):\n",
    "        print('N must be at least 10')\n",
    "\n",
    "# 初始化 ： 展品的编号、描述、预想价、竞拍次数\n",
    "item_no = [''] *n\n",
    "desc = [''] *n\n",
    "TotalBids = [0] *n\n",
    "RP=[0] *n\n",
    "\n",
    "# 输入每个物品的详细信息: 编号、描述、预想价\n",
    "for i in range(n):\n",
    "    item_no[i] = input('Enter the item_no:')\n",
    "    desc[i] = input('Enter the description of the item:')\n",
    "    RP[i] = input('Enter the reserve price of above item:')\n",
    "print(desc)"
   ]
  },
  {
   "cell_type": "markdown",
   "metadata": {},
   "source": [
    "#### Task 2"
   ]
  },
  {
   "cell_type": "code",
   "execution_count": 13,
   "metadata": {},
   "outputs": [
    {
     "name": "stdout",
     "output_type": "stream",
     "text": [
      "********** Auction Starts **********\n",
      "Items on sale are as follows: \n",
      "['001', '002', '003']\n",
      "Item No : 002\n",
      "Description : bbb\n",
      "Highest Bid : 0\n",
      "***Bid Accepted***\n",
      "----------\n",
      "Item Nos of all items : ['001', '002', '003']\n",
      "Highest Bids of all items : [0, 333, 0]\n",
      "Buyer ids : [None, 5, None]\n",
      "Total Number of Bids : [0, 1, 0]\n"
     ]
    }
   ],
   "source": [
    "item_no = ['001','002','003']\n",
    "desc = ['aaa','bbb','ccc']\n",
    "TotalBids = [0] * 3\n",
    "RP=[100,200,300]\n",
    "\n",
    "HighestBids=[0]*3      # Stores the highest bid for each item\n",
    "record_Buyer=[None]*3  # Stores the highest bid buyer\n",
    "\n",
    "print('********** Auction Starts **********')\n",
    "print('Items on sale are as follows: ')\n",
    "print(item_no)\n",
    "\n",
    "while True:\n",
    "    # 让买家选择想要拍卖的商品\n",
    "    itemNoForBid = input('Enter the item_no you want to bid for:')\n",
    "    # 找到这个商品并把它的信息打印出来\n",
    "    for i in range(3):\n",
    "        if(itemNoForBid == item_no[i]):\n",
    "            print('Item No :',item_no[i])\n",
    "            print('Description :',desc[i])\n",
    "            print('Highest Bid :', HighestBids[i])\n",
    "\n",
    "            # 询问买家，你是否要对这个商品进行加价竞标 ？\n",
    "            ans=input('Do you want to bid for this item?(Y/N)')\n",
    "            ans=ans.lower()\n",
    "            # 如果答案是 Y \n",
    "            if(ans=='y'):\n",
    "                # 请买家输入自己的ID号\n",
    "                buyer_id = int(input('Enter your Buyer id'))\n",
    "                # 请买家输入自己的竞标价\n",
    "                bid=int(input('Enter the Bid'))\n",
    "                # 如果该竞标价大于现在的最高价\n",
    "                if(bid>HighestBids[i]):\n",
    "                    print('***Bid Accepted***')\n",
    "                    # 记录最高价买家为当前买家\n",
    "                    record_Buyer[i]=buyer_id\n",
    "                    # 记录最高价为当前竞标价\n",
    "                    HighestBids[i]=bid\n",
    "                    # 该商品的竞标次数加一\n",
    "                    TotalBids[i]=TotalBids[i]+1\n",
    "    print('----------')\n",
    "    # 打印当前所有的商品和竞标信息\n",
    "    print('Item Nos of all items :',item_no)\n",
    "    print('Highest Bids of all items :',HighestBids)\n",
    "    print('Buyer ids :',record_Buyer)\n",
    "    print('Total Number of Bids :',TotalBids)\n",
    "    # 询问拍卖行，是否还有更多买家竞标？\n",
    "    auctionContinue = input('Do we have more buyers? Auction Continue?(Y/N)')\n",
    "    auctionContinue = auctionContinue.lower()\n",
    "    # 如果没有，那么结束拍卖\n",
    "    if(auctionContinue=='n'):\n",
    "        break\n",
    "print('Auction ends')"
   ]
  },
  {
   "cell_type": "code",
   "execution_count": null,
   "metadata": {},
   "outputs": [],
   "source": []
  }
 ],
 "metadata": {
  "kernelspec": {
   "display_name": "Python 3",
   "language": "python",
   "name": "python3"
  },
  "language_info": {
   "codemirror_mode": {
    "name": "ipython",
    "version": 3
   },
   "file_extension": ".py",
   "mimetype": "text/x-python",
   "name": "python",
   "nbconvert_exporter": "python",
   "pygments_lexer": "ipython3",
   "version": "3.6.5"
  }
 },
 "nbformat": 4,
 "nbformat_minor": 2
}
