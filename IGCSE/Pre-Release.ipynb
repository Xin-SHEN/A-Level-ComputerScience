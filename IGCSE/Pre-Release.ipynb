{
 "cells": [
  {
   "cell_type": "markdown",
   "metadata": {},
   "source": [
    "# *Computer Science Pre-Release 2019*"
   ]
  },
  {
   "cell_type": "markdown",
   "metadata": {},
   "source": [
    "#### READ THESE INSTRUCTIONS FIRST\n",
    "Candidates should use this material in preparation for the examination. Candidates should attempt the\n",
    "practical programming tasks using their chosen high-level, procedural programming language.\n",
    "Any businesses described in this paper are entirely fictitious.\n",
    "In preparation for the examination candidates should attempt the following practical tasks by **writing\n",
    "and testing a program or programs**."
   ]
  },
  {
   "cell_type": "markdown",
   "metadata": {},
   "source": [
    "An auction company has an interactive auction board at their sale rooms, which allows buyers to place\n",
    "bids at any time during the auction. Before the auction starts, the sellers place their items in the sale\n",
    "room with a unique number attached to each item (item number). The following details about each item\n",
    "need to be set up on the interactive auction board system: item number, number of bids, description\n",
    "and reserve price. The number of bids is initially set to zero.\n",
    "During the auction, buyers can look at the items in the sale room and then place a bid on the interactive\n",
    "auction board at the sale room. Each buyer is given a unique number for identification (buyer number).\n",
    "All the buyer needs to do is enter their buyer number, the item number and their bid. Their bid must be\n",
    "greater than any existing bids.\n",
    "At the end of the auction, the company checks all the items and marks those that have bids greater\n",
    "than the reserve as sold. Any items sold will incur a fee of 10% of the final bid to be paid to the auction\n",
    "company.\n",
    "Write and test a program or programs for the auction company. \n",
    "\n",
    "* Your program or programs must include appropriate prompts for the entry of data, data must be\n",
    "validated on entry.\n",
    "* Error messages and other output need to be set out clearly and understandably.\n",
    "* All variables, constants and other identifiers must have meaningful names. \n",
    "\n",
    "You will need to complete these **three** tasks. Each task must be fully tested."
   ]
  },
  {
   "cell_type": "markdown",
   "metadata": {},
   "source": [
    "**Task 1 –**Auction set up.\n",
    "For every item in the auction the item number, description and the reserve price should be recorded.\n",
    "The number of bids is set to zero. There must be at least 10 items in the auction."
   ]
  },
  {
   "cell_type": "code",
   "execution_count": 4,
   "metadata": {},
   "outputs": [
    {
     "name": "stdout",
     "output_type": "stream",
     "text": [
      "['1', '2', '3', '4', '5', '6', '7', '8', '9', '10']\n",
      "['a', 'b', 'c', 'd', 'f', 'g', 'h', 'i', 'j', 'k'] [0, 0, 0, 0, 0, 0, 0, 0, 0, 0] [1, 2, 3, 4, 5, 6, 7, 8, 9, 10]\n"
     ]
    }
   ],
   "source": [
    "n = 10 #Constant Number of items\n",
    "while n < 10: # Validation 1\n",
    "    print('There should be at least 10 items to start the auction')\n",
    "    n = int(input('Enter the total number of items'))\n",
    "item_no = [''] *n # parallel arrays\n",
    "desc = [''] *n\n",
    "TotalBids = [0] *n\n",
    "RP=[0] *n\n",
    "\n",
    "for i in range(n): #Task1\n",
    "    item_no[i]=input('Enter the item no')\n",
    "    for j in range(i): # Validation 2 for unique number\n",
    "        while(item_no[i]==item_no[j]):\n",
    "            print('Dulicate value')\n",
    "            item_no[i]=input('enter again')\n",
    "    desc[i]=input('Enter the description of the item')\n",
    "    RP[i]=int(input('Enter the reserve price of above item'))\n",
    "    while RP[i]<=0: # Validation 3\n",
    "        RP[i]=int(input('Price cannot be less than zero! Enter again:'))\n",
    "print(item_no)\n",
    "print(desc,TotalBids,RP)"
   ]
  },
  {
   "cell_type": "markdown",
   "metadata": {},
   "source": [
    "**Task 2 –** Buyer bids.\n",
    "A buyer should be able to find an item and view the item number, description and the current highest\n",
    "bid. A buyer can then enter their buyer number and bid, which must be higher than any previously\n",
    "recorded bids. Every time a new bid is recorded the number of bids for that item is increased by one.\n",
    "Buyers can bid for an item many times and they can bid for many items."
   ]
  },
  {
   "cell_type": "code",
   "execution_count": 8,
   "metadata": {},
   "outputs": [
    {
     "name": "stdout",
     "output_type": "stream",
     "text": [
      "********** Auction Starts **********\n",
      "Items on sale are as follows: \n",
      "['1', '2', '3', '4', '5', '6', '7', '8', '9', '10']\n",
      "All buyers present in the auction are\n",
      "[1, 2, 3]\n",
      "Item No:  1\n",
      "Description  a\n",
      "Highest bid  0\n",
      "Bid Accepted\n",
      "Item Nos of all items : ['1', '2', '3', '4', '5', '6', '7', '8', '9', '10']\n",
      "Highest Bids of all items : [100, 0, 0, 0, 0, 0, 0, 0, 0, 0]\n",
      "Buyer ids : [1, None, None, None, None, None, None, None, None, None]\n",
      "Total Number of Bids : [1, 0, 0, 0, 0, 0, 0, 0, 0, 0]\n",
      "Auction ends\n"
     ]
    }
   ],
   "source": [
    "No = int(input('Enter how many buyers are present in auction?'))\n",
    "Buyerno=[]            # Array to store the buyer nos #Not required\n",
    "HighestBids=[0]*n      # Stores the highest bid for each item\n",
    "record_Buyer=[None]*n # Stores the highest bid buyer\n",
    "for i in range(No):\n",
    "    Buyerno.append(i+1)\n",
    "    \n",
    "print('********** Auction Starts **********')\n",
    "print('Items on sale are as follows: ')\n",
    "print(item_no)\n",
    "print('All buyers present in the auction are')\n",
    "print(Buyerno)\n",
    "\n",
    "auction='y'\n",
    "while (auction=='y'):\n",
    "    x=input('Enter the item number you want to bid for?')\n",
    "    for i in range(n):\n",
    "        if(x==item_no[i]):   #Searching\n",
    "            print('Item No: ',item_no[i])\n",
    "            print('Description ',desc[i])\n",
    "            print('Highest bid ', HighestBids[i])\n",
    "            ans=input('Do you want to bid for this item?(Y/N)')\n",
    "            ans=ans.lower()\n",
    "            \n",
    "            if(ans=='y'):\n",
    "                b = int(input('Enter your Buyer id'))  # Validation for existing Buyer id\n",
    "                bid=int(input('Enter the Bid'))\n",
    "                if(bid>HighestBids[i]):\n",
    "                    print('***Bid Accepted***')\n",
    "                    record_Buyer[i]=b\n",
    "                    HighestBids[i]=bid\n",
    "                    TotalBids[i]=TotalBids[i]+1\n",
    "    print('----------')\n",
    "    # 打印当前所有的商品和竞标信息\n",
    "    print('Item Nos of all items :',item_no)\n",
    "    print('Highest Bids of all items :',HighestBids)\n",
    "    print('Buyer ids :',record_Buyer)\n",
    "    print('Total Number of Bids :',TotalBids)\n",
    "    auction=input('Do we have more buyers? Auction Continue?(Y/N)')\n",
    "    auction=auction.lower()\n",
    "print('Auction ends')  "
   ]
  },
  {
   "cell_type": "markdown",
   "metadata": {},
   "source": [
    "**Task 3 –** At the end of the auction.\n",
    "Using the results from TASK 2, identify items that have reached their reserve price, mark them as sold,\n",
    "calculate 10% of the final bid as the auction company fee and add this to the total fee for all sold items.\n",
    "Display this total fee. Display the item number and final bid for all the items with bids that have not\n",
    "reached their reserve price. Display the item number of any items that have received no bids. Display\n",
    "the number of items sold, the number of items that did not meet the reserve price and the number of\n",
    "items with no bids."
   ]
  },
  {
   "cell_type": "code",
   "execution_count": 11,
   "metadata": {},
   "outputs": [
    {
     "name": "stdout",
     "output_type": "stream",
     "text": [
      "The total fee earned by company is  110.0\n",
      "Item Numbers and Final Bid for all items that have not reached their reserve price:\n",
      "Item Numbers with no bid:\n",
      "2\n",
      "3\n",
      "4\n",
      "5\n",
      "6\n",
      "7\n",
      "8\n",
      "9\n",
      "10\n",
      "The total number of items sold 1\n",
      "Total number of items that did not meet the reserve price 0\n",
      "Total number of items with no bids 9\n"
     ]
    }
   ],
   "source": [
    "Sold = [False]*n\n",
    "Fee = 0\n",
    "CompanyTotal = 0\n",
    "Count =0\n",
    "CountNotMeetRP = 0\n",
    "CountNoBids=0\n",
    "\n",
    "for i in range(n):\n",
    "    if HighestBids[i]>RP[i]:\n",
    "        Sold[i]=True\n",
    "        Count = Count+1\n",
    "        Fee = HighestBids[i] + HighestBids[i]*0.1\n",
    "        CompanyTotal = CompanyTotal + Fee\n",
    "        \n",
    "print('The total fee earned by company is ',CompanyTotal)\n",
    "\n",
    "print('Item Numbers and Final Bid for all items that have not reached their reserve price:')\n",
    "for i in range(n):\n",
    "    if HighestBids[i]<RP[i] and TotalBids[i]>0:\n",
    "        print(item_no[i],RP[i])\n",
    "        CountNotMeetRP = CountNotMeetRP+1\n",
    "\n",
    "print('Item Numbers with no bid:')\n",
    "for i in range(n):\n",
    "    if TotalBids[i]==0:\n",
    "        print(item_no[i])\n",
    "        CountNoBids=CountNoBids+1\n",
    "        \n",
    "# Displays\n",
    "print('The total number of items sold', Count)\n",
    "print('Total number of items that did not meet the reserve price', CountNotMeetRP)\n",
    "print('Total number of items with no bids', CountNoBids)"
   ]
  },
  {
   "cell_type": "code",
   "execution_count": null,
   "metadata": {},
   "outputs": [],
   "source": []
  }
 ],
 "metadata": {
  "kernelspec": {
   "display_name": "Python 3",
   "language": "python",
   "name": "python3"
  },
  "language_info": {
   "codemirror_mode": {
    "name": "ipython",
    "version": 3
   },
   "file_extension": ".py",
   "mimetype": "text/x-python",
   "name": "python",
   "nbconvert_exporter": "python",
   "pygments_lexer": "ipython3",
   "version": "3.6.5"
  }
 },
 "nbformat": 4,
 "nbformat_minor": 2
}
