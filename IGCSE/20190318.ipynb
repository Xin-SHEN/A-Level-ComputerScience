{
 "cells": [
  {
   "cell_type": "markdown",
   "metadata": {},
   "source": [
    "#### 1. 变量 / 四种数据类型 string, integer, float , boolean\n",
    "#### 2. 列表 _list = [ 'abc', 123, 123.45, True ]\n",
    "#### 3. 循环 \n",
    "#### 4. 判断"
   ]
  },
  {
   "cell_type": "code",
   "execution_count": 1,
   "metadata": {},
   "outputs": [
    {
     "name": "stdout",
     "output_type": "stream",
     "text": [
      "0\n",
      "1\n",
      "2\n",
      "3\n"
     ]
    }
   ],
   "source": [
    "for x in range(0,4,1):\n",
    "    print(x)"
   ]
  },
  {
   "cell_type": "code",
   "execution_count": 2,
   "metadata": {},
   "outputs": [
    {
     "name": "stdout",
     "output_type": "stream",
     "text": [
      "abc\n",
      "123\n",
      "123.45\n",
      "True\n"
     ]
    }
   ],
   "source": [
    "_list = [ 'abc', 123, 123.45, True ]\n",
    "for x in range(0,4,1):\n",
    "    print(_list[x])"
   ]
  },
  {
   "cell_type": "code",
   "execution_count": 3,
   "metadata": {},
   "outputs": [
    {
     "data": {
      "text/plain": [
       "['abc', 123, 123.45, True, 'aaa', 'bbb', 'ccc', 'ddd']"
      ]
     },
     "execution_count": 3,
     "metadata": {},
     "output_type": "execute_result"
    }
   ],
   "source": [
    "for x in range(0,4,1):\n",
    "    newStudent = input('Please enter the new student\\'s name')\n",
    "    _list.append(newStudent)\n",
    "\n",
    "_list"
   ]
  },
  {
   "cell_type": "code",
   "execution_count": 6,
   "metadata": {},
   "outputs": [
    {
     "name": "stdout",
     "output_type": "stream",
     "text": [
      "a>b\n"
     ]
    }
   ],
   "source": [
    "a = 222\n",
    "b = 2\n",
    "c = 2\n",
    "\n",
    "if(a>b):\n",
    "    print(\"a>b\")\n",
    "elif(a==b):\n",
    "    print(\"a==b\")\n",
    "else:\n",
    "    print(\"a<b\")"
   ]
  },
  {
   "cell_type": "code",
   "execution_count": 9,
   "metadata": {},
   "outputs": [
    {
     "name": "stdout",
     "output_type": "stream",
     "text": [
      "a is not the min\n"
     ]
    }
   ],
   "source": [
    "a = 22\n",
    "b = 2\n",
    "c = 33\n",
    "\n",
    "# and  or\n",
    "\n",
    "if(a>b and a>c):\n",
    "    print(\"a is the max\")\n",
    "    \n",
    "if(a>b or a>c):\n",
    "    print(\"a is not the min\")"
   ]
  },
  {
   "cell_type": "code",
   "execution_count": 10,
   "metadata": {},
   "outputs": [
    {
     "name": "stdout",
     "output_type": "stream",
     "text": [
      "0\n",
      "1\n",
      "2\n",
      "3\n",
      "4\n"
     ]
    }
   ],
   "source": [
    "a = 0\n",
    "b = 5\n",
    "\n",
    "while a<b:\n",
    "    print(a)\n",
    "    a = a +1\n"
   ]
  },
  {
   "cell_type": "code",
   "execution_count": null,
   "metadata": {},
   "outputs": [],
   "source": []
  }
 ],
 "metadata": {
  "kernelspec": {
   "display_name": "Python 3",
   "language": "python",
   "name": "python3"
  },
  "language_info": {
   "codemirror_mode": {
    "name": "ipython",
    "version": 3
   },
   "file_extension": ".py",
   "mimetype": "text/x-python",
   "name": "python",
   "nbconvert_exporter": "python",
   "pygments_lexer": "ipython3",
   "version": "3.6.5"
  }
 },
 "nbformat": 4,
 "nbformat_minor": 2
}
