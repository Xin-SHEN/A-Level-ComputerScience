{
 "cells": [
  {
   "cell_type": "code",
   "execution_count": 2,
   "metadata": {},
   "outputs": [
    {
     "name": "stdout",
     "output_type": "stream",
     "text": [
      "你的名字是 冯元\n"
     ]
    }
   ],
   "source": [
    "name = input('请输入你的名字：')\n",
    "print('你的名字是',name)"
   ]
  },
  {
   "cell_type": "code",
   "execution_count": 4,
   "metadata": {},
   "outputs": [
    {
     "name": "stdout",
     "output_type": "stream",
     "text": [
      "33.0\n"
     ]
    }
   ],
   "source": [
    "cost  = input('请输入总共的花费：')\n",
    "people = input('请输入AA制的人数：')\n",
    "\n",
    "# 将cost 从字符串转换成整型数\n",
    "cost = int(cost)\n",
    "\n",
    "# 将people 从字符串转换成整形数\n",
    "people = int(people)\n",
    "\n",
    "# 计算人均多少钱\n",
    "average = cost / people\n",
    "\n",
    "# 将人均花费打印出来\n",
    "print(average)"
   ]
  },
  {
   "cell_type": "code",
   "execution_count": null,
   "metadata": {},
   "outputs": [],
   "source": []
  }
 ],
 "metadata": {
  "kernelspec": {
   "display_name": "Python 3",
   "language": "python",
   "name": "python3"
  },
  "language_info": {
   "codemirror_mode": {
    "name": "ipython",
    "version": 3
   },
   "file_extension": ".py",
   "mimetype": "text/x-python",
   "name": "python",
   "nbconvert_exporter": "python",
   "pygments_lexer": "ipython3",
   "version": "3.6.5"
  }
 },
 "nbformat": 4,
 "nbformat_minor": 2
}
