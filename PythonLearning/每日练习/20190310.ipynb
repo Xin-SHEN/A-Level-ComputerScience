{
 "cells": [
  {
   "cell_type": "code",
   "execution_count": 2,
   "metadata": {},
   "outputs": [
    {
     "name": "stdout",
     "output_type": "stream",
     "text": [
      "1\n",
      "123.45\n",
      "abc\n",
      "False\n"
     ]
    }
   ],
   "source": [
    "_list = [1,123.45,\"abc\",False]\n",
    "for a in range(0,4,1):\n",
    "    print(_list[a])\n",
    "    "
   ]
  },
  {
   "cell_type": "code",
   "execution_count": 3,
   "metadata": {},
   "outputs": [
    {
     "name": "stdout",
     "output_type": "stream",
     "text": [
      "1\n",
      "123.45\n",
      "abc\n",
      "False\n"
     ]
    }
   ],
   "source": [
    "for s in _list:\n",
    "    print(s)"
   ]
  },
  {
   "cell_type": "code",
   "execution_count": 6,
   "metadata": {},
   "outputs": [
    {
     "name": "stdout",
     "output_type": "stream",
     "text": [
      "1\n",
      "123.45\n",
      "abc\n"
     ]
    }
   ],
   "source": [
    "for x in range(4):\n",
    "    if _list[x] != False:\n",
    "        print(_list[x])"
   ]
  },
  {
   "cell_type": "code",
   "execution_count": null,
   "metadata": {},
   "outputs": [],
   "source": [
    "for s in _list:\n",
    "    if s != False:\n",
    "        print(s)"
   ]
  }
 ],
 "metadata": {
  "kernelspec": {
   "display_name": "Python 3",
   "language": "python",
   "name": "python3"
  },
  "language_info": {
   "codemirror_mode": {
    "name": "ipython",
    "version": 3
   },
   "file_extension": ".py",
   "mimetype": "text/x-python",
   "name": "python",
   "nbconvert_exporter": "python",
   "pygments_lexer": "ipython3",
   "version": "3.6.5"
  }
 },
 "nbformat": 4,
 "nbformat_minor": 2
}
