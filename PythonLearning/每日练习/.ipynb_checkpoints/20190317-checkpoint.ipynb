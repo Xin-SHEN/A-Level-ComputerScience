{
 "cells": [
  {
   "cell_type": "code",
   "execution_count": 2,
   "metadata": {},
   "outputs": [
    {
     "name": "stdout",
     "output_type": "stream",
     "text": [
      "123\n",
      "123.45\n"
     ]
    }
   ],
   "source": [
    "# 给三个变量赋值，分别是三种不同的类型\n",
    "a = 123\n",
    "b = 123.45\n",
    "c = 'This is a string'\n",
    "print(a)\n",
    "print(b)\n",
    "print(c)"
   ]
  },
  {
   "cell_type": "code",
   "execution_count": 5,
   "metadata": {},
   "outputs": [
    {
     "name": "stdout",
     "output_type": "stream",
     "text": [
      "变量b的值是： 1000\n",
      "变量c的值是： 1010\n",
      "变量d的值是： 2020\n"
     ]
    }
   ],
   "source": [
    "# 变量的运算\n",
    "b = 1000\n",
    "c = 10 + b\n",
    "d = c + c\n",
    "print('变量b的值是：',b)\n",
    "print('变量c的值是：',c)\n",
    "print('变量d的值是：',d)"
   ]
  },
  {
   "cell_type": "code",
   "execution_count": 11,
   "metadata": {},
   "outputs": [
    {
     "name": "stdout",
     "output_type": "stream",
     "text": [
      "<class 'int'>\n",
      "<class 'float'>\n",
      "<class 'str'>\n",
      "<class 'int'>\n",
      "<class 'float'>\n",
      "<class 'str'>\n"
     ]
    }
   ],
   "source": [
    "a = 123\n",
    "b = 124.45\n",
    "c = 'adsf'\n",
    "print( type(123) )\n",
    "print( type(123.45) )\n",
    "print( type('123'))\n",
    "print( type(a))\n",
    "print( type(b))\n",
    "print( type(c))"
   ]
  },
  {
   "cell_type": "code",
   "execution_count": 14,
   "metadata": {},
   "outputs": [
    {
     "name": "stdout",
     "output_type": "stream",
     "text": [
      " 'abc' \n"
     ]
    }
   ],
   "source": [
    "a = \" 'abc' \"\n",
    "print(a)"
   ]
  },
  {
   "cell_type": "code",
   "execution_count": 15,
   "metadata": {},
   "outputs": [
    {
     "name": "stdout",
     "output_type": "stream",
     "text": [
      "\"abc\"\n"
     ]
    }
   ],
   "source": [
    "a = \"\\\"abc\\\"\"\n",
    "print(a)"
   ]
  },
  {
   "cell_type": "code",
   "execution_count": 19,
   "metadata": {},
   "outputs": [
    {
     "name": "stdout",
     "output_type": "stream",
     "text": [
      "892\n",
      "108\n",
      "1680\n",
      "288\n",
      "7.0\n",
      "7\n",
      "7\n",
      "7\n"
     ]
    }
   ],
   "source": [
    "print(101+791)\n",
    "print(321-213)\n",
    "print(28*60)\n",
    "print(8*(108-72))\n",
    "print(385/55) #默认除法，结果都是浮点数\n",
    "print(385//55) #整除除法\n",
    "print(386//55) #整除除法，舍去所有小数位\n",
    "print((385+54)//55) #整除除法，舍去所有小数位"
   ]
  },
  {
   "cell_type": "code",
   "execution_count": 21,
   "metadata": {},
   "outputs": [
    {
     "name": "stdout",
     "output_type": "stream",
     "text": [
      "658\n"
     ]
    }
   ],
   "source": [
    "#Python初级上\n",
    "\n",
    "#计算153÷153+657=？\n",
    "print(153//153+657)\n",
    "\n",
    "#计算125×8÷100-66=？\n",
    "\n",
    "#计算7650-（546+4530）=？\n",
    "\n",
    "#计算（150-75）×（25-20）=？"
   ]
  },
  {
   "cell_type": "code",
   "execution_count": null,
   "metadata": {},
   "outputs": [],
   "source": []
  }
 ],
 "metadata": {
  "kernelspec": {
   "display_name": "Python 3",
   "language": "python",
   "name": "python3"
  },
  "language_info": {
   "codemirror_mode": {
    "name": "ipython",
    "version": 3
   },
   "file_extension": ".py",
   "mimetype": "text/x-python",
   "name": "python",
   "nbconvert_exporter": "python",
   "pygments_lexer": "ipython3",
   "version": "3.6.5"
  }
 },
 "nbformat": 4,
 "nbformat_minor": 2
}
