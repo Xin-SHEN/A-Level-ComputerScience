{
 "cells": [
  {
   "cell_type": "code",
   "execution_count": 3,
   "metadata": {},
   "outputs": [
    {
     "name": "stdout",
     "output_type": "stream",
     "text": [
      "猫老祖\n"
     ]
    }
   ],
   "source": [
    "a = [ '阿短', '编程猫', '猫老祖']\n",
    "#print(a)\n",
    "print(a[2])"
   ]
  },
  {
   "cell_type": "code",
   "execution_count": 17,
   "metadata": {},
   "outputs": [
    {
     "name": "stdout",
     "output_type": "stream",
     "text": [
      "82\n"
     ]
    }
   ],
   "source": [
    "import random\n",
    "c = random.randint(1,100)\n",
    "print(c)"
   ]
  },
  {
   "cell_type": "code",
   "execution_count": 23,
   "metadata": {},
   "outputs": [
    {
     "name": "stdout",
     "output_type": "stream",
     "text": [
      "阿短\n"
     ]
    }
   ],
   "source": [
    "print(a[ random.randint(0,2) ])"
   ]
  },
  {
   "cell_type": "code",
   "execution_count": 27,
   "metadata": {},
   "outputs": [
    {
     "name": "stdout",
     "output_type": "stream",
     "text": [
      "阿短\n"
     ]
    }
   ],
   "source": [
    "ra = random.randint(0,2)\n",
    "print(a[ra])"
   ]
  },
  {
   "cell_type": "code",
   "execution_count": 31,
   "metadata": {},
   "outputs": [
    {
     "name": "stdout",
     "output_type": "stream",
     "text": [
      "abc123\n"
     ]
    }
   ],
   "source": [
    "print('abc'+str(123))"
   ]
  },
  {
   "cell_type": "code",
   "execution_count": 33,
   "metadata": {},
   "outputs": [
    {
     "name": "stdout",
     "output_type": "stream",
     "text": [
      "abc123\n"
     ]
    }
   ],
   "source": [
    "print('abc',end='')\n",
    "print(123)"
   ]
  },
  {
   "cell_type": "code",
   "execution_count": 14,
   "metadata": {},
   "outputs": [
    {
     "name": "stdout",
     "output_type": "stream",
     "text": [
      "厉害的猫老祖\n"
     ]
    }
   ],
   "source": [
    "# 新建一个人名列表\n",
    "a = [ '阿短', '编程猫', '猫老祖']\n",
    "# 新建一个形容词列表\n",
    "b = [ '快乐的','厉害的','狂躁的','自信的']\n",
    "\n",
    "# 倒入随机函数库\n",
    "import random\n",
    "# 新建一个随机数，它的范围是 0 到 2 ，一共三种可能性\n",
    "random1 = random.randint(0,2)\n",
    "# 新建一个随机数，它的范围是 0 到 3 ，一共四种可能性\n",
    "random2 = random.randint(0,3)\n",
    "\n",
    "# 新建一个人名，它是由上面两个列表随机合成的\n",
    "c = b[random2] + a[random1]\n",
    "# 把这个随机生成的人名打印出来\n",
    "print(c)"
   ]
  },
  {
   "cell_type": "code",
   "execution_count": null,
   "metadata": {},
   "outputs": [],
   "source": []
  }
 ],
 "metadata": {
  "kernelspec": {
   "display_name": "Python 3",
   "language": "python",
   "name": "python3"
  },
  "language_info": {
   "codemirror_mode": {
    "name": "ipython",
    "version": 3
   },
   "file_extension": ".py",
   "mimetype": "text/x-python",
   "name": "python",
   "nbconvert_exporter": "python",
   "pygments_lexer": "ipython3",
   "version": "3.6.5"
  }
 },
 "nbformat": 4,
 "nbformat_minor": 2
}
