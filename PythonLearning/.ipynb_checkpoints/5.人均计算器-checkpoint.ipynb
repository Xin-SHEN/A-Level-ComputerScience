{
 "cells": [
  {
   "cell_type": "code",
   "execution_count": null,
   "metadata": {},
   "outputs": [],
   "source": [
    "# 人均计算器v1\n",
    "\n",
    "# 初始化\n",
    "people = None #参加聚会的人数\n",
    "cost = None #总共的花销\n",
    "average = None # 人均花销\n",
    "\n",
    "# 获得用户输入\n",
    "people = input('请输入参加聚会的人数')\n",
    "cost = input('请输入总共的花销')\n",
    "\n",
    "# 将获得的用户输入从 <string> 转换成 <float>\n",
    "people = float(people)\n",
    "cost = float(cost)\n",
    "\n",
    "# 计算人均花销\n",
    "average =\n",
    "\n",
    "# 打印出人均花销\n",
    "print()"
   ]
  }
 ],
 "metadata": {
  "kernelspec": {
   "display_name": "Python 3",
   "language": "python",
   "name": "python3"
  },
  "language_info": {
   "codemirror_mode": {
    "name": "ipython",
    "version": 3
   },
   "file_extension": ".py",
   "mimetype": "text/x-python",
   "name": "python",
   "nbconvert_exporter": "python",
   "pygments_lexer": "ipython3",
   "version": "3.6.5"
  }
 },
 "nbformat": 4,
 "nbformat_minor": 2
}
