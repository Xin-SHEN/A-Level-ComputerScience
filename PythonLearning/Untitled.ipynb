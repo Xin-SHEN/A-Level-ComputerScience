{
 "cells": [
  {
   "cell_type": "code",
   "execution_count": 10,
   "metadata": {},
   "outputs": [
    {
     "name": "stdout",
     "output_type": "stream",
     "text": [
      "asdfasf\n"
     ]
    }
   ],
   "source": [
    "print(\"asdfasf\")    "
   ]
  },
  {
   "cell_type": "code",
   "execution_count": 11,
   "metadata": {},
   "outputs": [
    {
     "name": "stdout",
     "output_type": "stream",
     "text": [
      "abc 123 123.45 True\n"
     ]
    }
   ],
   "source": [
    "# string\n",
    "a = 'abc'\n",
    "# integer\n",
    "b = 123\n",
    "# float\n",
    "c = 123.45\n",
    "# boolean\n",
    "d = True\n",
    "\n",
    "print(a,b,c,d)"
   ]
  },
  {
   "cell_type": "code",
   "execution_count": 18,
   "metadata": {},
   "outputs": [
    {
     "name": "stdout",
     "output_type": "stream",
     "text": [
      "['a', 123, 123.45, True]\n"
     ]
    }
   ],
   "source": [
    "_list = [ ]\n",
    "_list = [ 'a', 123, 123.45, True ]\n",
    "print(_list)\n",
    "# _array = ['a','b','c']\n",
    "# _array = [123,456,789]\n",
    "# _array = [True,False,True]"
   ]
  },
  {
   "cell_type": "code",
   "execution_count": 22,
   "metadata": {},
   "outputs": [
    {
     "name": "stdout",
     "output_type": "stream",
     "text": [
      "a\n",
      "123\n"
     ]
    }
   ],
   "source": [
    "print(_list[0])\n",
    "print(_list[-3])"
   ]
  },
  {
   "cell_type": "code",
   "execution_count": 23,
   "metadata": {},
   "outputs": [
    {
     "name": "stdout",
     "output_type": "stream",
     "text": [
      "['a', 123]\n"
     ]
    }
   ],
   "source": [
    "print(_list[0:2])"
   ]
  },
  {
   "cell_type": "code",
   "execution_count": 24,
   "metadata": {},
   "outputs": [
    {
     "name": "stdout",
     "output_type": "stream",
     "text": [
      "[123, 123.45, True]\n"
     ]
    }
   ],
   "source": [
    "print(_list[1:])"
   ]
  },
  {
   "cell_type": "code",
   "execution_count": 25,
   "metadata": {},
   "outputs": [
    {
     "name": "stdout",
     "output_type": "stream",
     "text": [
      "['a', 123, 123.45, True, 'zzz']\n"
     ]
    }
   ],
   "source": [
    "_list.append('zzz')\n",
    "print(_list)"
   ]
  },
  {
   "cell_type": "code",
   "execution_count": 27,
   "metadata": {},
   "outputs": [
    {
     "name": "stdout",
     "output_type": "stream",
     "text": [
      "5\n"
     ]
    }
   ],
   "source": [
    "print(len(_list))"
   ]
  },
  {
   "cell_type": "code",
   "execution_count": 28,
   "metadata": {},
   "outputs": [
    {
     "name": "stdout",
     "output_type": "stream",
     "text": [
      "['a', 123, 123.45, True, 'zzz', 'xxx']\n"
     ]
    }
   ],
   "source": [
    "newElement = input('Please enter an element:')\n",
    "_list.append(newElement)\n",
    "print(_list)"
   ]
  },
  {
   "cell_type": "code",
   "execution_count": 37,
   "metadata": {},
   "outputs": [
    {
     "name": "stdout",
     "output_type": "stream",
     "text": [
      "3\n",
      "6\n"
     ]
    }
   ],
   "source": [
    "# 随机函数\n",
    "import random\n",
    "#     random.randint( 起点 ,  终点 ) # 终点包括 \n",
    "print(random.randint(1,5))\n",
    "\n",
    "a = random.randint(1,100)\n",
    "print(a)"
   ]
  },
  {
   "cell_type": "code",
   "execution_count": 39,
   "metadata": {},
   "outputs": [
    {
     "data": {
      "text/plain": [
       "range(1, 5, 2)"
      ]
     },
     "execution_count": 39,
     "metadata": {},
     "output_type": "execute_result"
    }
   ],
   "source": [
    "# 范围函数\n",
    "# range( 起点, 终点, 步长 )  # 终点不包括\n",
    "# range( 终点 )\n",
    "\n",
    "range(1,5,1)\n",
    "# 1, 2, 3, 4\n",
    "\n",
    "range(1,5,2)\n",
    "# 1, 3"
   ]
  },
  {
   "cell_type": "code",
   "execution_count": 45,
   "metadata": {},
   "outputs": [
    {
     "name": "stdout",
     "output_type": "stream",
     "text": [
      "a\n",
      "123\n",
      "123.45\n",
      "True\n",
      "zzz\n",
      "xxx\n"
     ]
    }
   ],
   "source": [
    "# 循环\n",
    "#  for x in range( 起点, 终点, 步长 ) :\n",
    "for x in range(0,6,1):\n",
    "    print(_list[x])"
   ]
  },
  {
   "cell_type": "code",
   "execution_count": 47,
   "metadata": {},
   "outputs": [
    {
     "name": "stdout",
     "output_type": "stream",
     "text": [
      "0\n",
      "1\n",
      "2\n",
      "3\n",
      "4\n",
      "5\n"
     ]
    }
   ],
   "source": [
    "for x in range(6):\n",
    "    print(x)"
   ]
  },
  {
   "cell_type": "code",
   "execution_count": 48,
   "metadata": {},
   "outputs": [
    {
     "name": "stdout",
     "output_type": "stream",
     "text": [
      "['a', '1', 'True', 'False', 'adfasdf', '453535']\n"
     ]
    }
   ],
   "source": [
    "_list = []\n",
    "for x in range(0,6,1):\n",
    "    newElement = input('Please enter an element:')\n",
    "    _list.append(newElement)\n",
    "print(_list)"
   ]
  },
  {
   "cell_type": "code",
   "execution_count": 49,
   "metadata": {},
   "outputs": [
    {
     "name": "stdout",
     "output_type": "stream",
     "text": [
      "a\n",
      "1\n",
      "True\n",
      "False\n",
      "adfasdf\n",
      "453535\n"
     ]
    }
   ],
   "source": [
    "for x in range(6):\n",
    "    print(_list[x])"
   ]
  },
  {
   "cell_type": "code",
   "execution_count": 50,
   "metadata": {},
   "outputs": [
    {
     "name": "stdout",
     "output_type": "stream",
     "text": [
      "a\n",
      "1\n",
      "True\n",
      "False\n",
      "adfasdf\n",
      "453535\n"
     ]
    }
   ],
   "source": [
    "for x in _list:\n",
    "    print(x)"
   ]
  },
  {
   "cell_type": "code",
   "execution_count": 51,
   "metadata": {},
   "outputs": [
    {
     "name": "stdout",
     "output_type": "stream",
     "text": [
      "sdfaaa\n"
     ]
    }
   ],
   "source": [
    "a = 'sdf'\n",
    "a = a + 'aaa'\n",
    "print(a)"
   ]
  },
  {
   "cell_type": "code",
   "execution_count": 53,
   "metadata": {},
   "outputs": [
    {
     "name": "stdout",
     "output_type": "stream",
     "text": [
      "aaaa\n",
      "1aaa\n",
      "Trueaaa\n",
      "Falseaaa\n",
      "adfasdfaaa\n",
      "453535aaa\n"
     ]
    }
   ],
   "source": [
    "for x in _list:\n",
    "    x = x+'aaa'\n",
    "    print(x)"
   ]
  },
  {
   "cell_type": "code",
   "execution_count": 54,
   "metadata": {},
   "outputs": [
    {
     "name": "stdout",
     "output_type": "stream",
     "text": [
      "azzz\n",
      "1zzz\n",
      "Truezzz\n",
      "Falsezzz\n",
      "adfasdfzzz\n",
      "453535zzz\n"
     ]
    }
   ],
   "source": [
    "for x in _list:\n",
    "    print(x+'zzz')"
   ]
  },
  {
   "cell_type": "code",
   "execution_count": 55,
   "metadata": {},
   "outputs": [
    {
     "name": "stdout",
     "output_type": "stream",
     "text": [
      "['a', '1', 'True', 'False', 'adfasdf', '453535']\n"
     ]
    }
   ],
   "source": [
    "print(_list)"
   ]
  },
  {
   "cell_type": "code",
   "execution_count": 56,
   "metadata": {},
   "outputs": [
    {
     "name": "stdout",
     "output_type": "stream",
     "text": [
      "0\n",
      "1\n",
      "2\n",
      "3\n",
      "4\n",
      "5\n"
     ]
    }
   ],
   "source": [
    "a = 0\n",
    "while True:\n",
    "    print(a)\n",
    "    a = a + 1\n",
    "    if a >= 5:\n",
    "        break\n",
    "print(a)"
   ]
  },
  {
   "cell_type": "code",
   "execution_count": 57,
   "metadata": {},
   "outputs": [
    {
     "name": "stdout",
     "output_type": "stream",
     "text": [
      "0\n",
      "1\n",
      "2\n",
      "3\n",
      "4\n",
      "5\n"
     ]
    }
   ],
   "source": [
    "a = 0\n",
    "while a < 5:\n",
    "    print(a)\n",
    "    a = a + 1\n",
    "print(a)"
   ]
  },
  {
   "cell_type": "code",
   "execution_count": 63,
   "metadata": {},
   "outputs": [
    {
     "name": "stdout",
     "output_type": "stream",
     "text": [
      "None\n"
     ]
    }
   ],
   "source": [
    "import random\n",
    "# 创造一个函数，叫做买火车票\n",
    "def BuyTicket(date):\n",
    "    TicketNumber = random.randint(100,200)\n",
    "    #\n",
    "    #\n",
    "    #\n",
    "    return TicketNumber\n",
    "\n",
    "BuyTicket('abc')\n",
    "print(myTicket)"
   ]
  },
  {
   "cell_type": "code",
   "execution_count": 68,
   "metadata": {},
   "outputs": [
    {
     "name": "stdout",
     "output_type": "stream",
     "text": [
      "16\n"
     ]
    }
   ],
   "source": [
    "def SumFunction(x, y):\n",
    "    temp = x * y + y\n",
    "    return temp\n",
    "\n",
    "mySum = SumFunction(3,4)\n",
    "print(mySum)"
   ]
  },
  {
   "cell_type": "code",
   "execution_count": null,
   "metadata": {},
   "outputs": [],
   "source": [
    "mySum = SumFunction( 3, SumFunction(1,2)  )\n",
    "print(mySum)"
   ]
  }
 ],
 "metadata": {
  "kernelspec": {
   "display_name": "Python 3",
   "language": "python",
   "name": "python3"
  },
  "language_info": {
   "codemirror_mode": {
    "name": "ipython",
    "version": 3
   },
   "file_extension": ".py",
   "mimetype": "text/x-python",
   "name": "python",
   "nbconvert_exporter": "python",
   "pygments_lexer": "ipython3",
   "version": "3.6.5"
  }
 },
 "nbformat": 4,
 "nbformat_minor": 2
}
