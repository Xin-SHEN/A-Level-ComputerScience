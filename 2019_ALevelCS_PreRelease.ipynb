{
 "cells": [
  {
   "cell_type": "markdown",
   "metadata": {},
   "source": [
    "# Cambridge Assessment International Education\n",
    "Cambridge International Advanced Subsidiary and Advanced Level\n",
    "\n",
    "***\n",
    "*COMPUTER SCIENCE*\n",
    "\n",
    "Paper 2 Fundamental Problem-solving and Programming Skills.\n",
    "\n",
    "PRE-RELEASE MATERIAL\n",
    "\n",
    "No Additional Materials are required.\n",
    "### This material should be given to the relevant teachers and candidates as soon as it has been received at the Centre.\n",
    "***\n",
    "#### READ THESE INSTRUCTIONS FIRST\n",
    "Candidates should use this material in preparation for the examination. Candidates should attempt the\n",
    "practical programming tasks using their chosen high-level, procedural programming language.\n",
    "Teachers and candidates should read this material prior to the June 2019 examination for 9608 Paper 2.\n",
    "\n",
    "#### Reminders\n",
    "The syllabus states:\n",
    "* there will be questions on the examination paper which do not relate to this pre-release material.\n",
    "* you must choose a high-level programming language from this list:\n",
    "    * Visual Basic (console mode)\n",
    "    * Python\n",
    "    * Pascal / Delphi (console mode)"
   ]
  },
  {
   "cell_type": "markdown",
   "metadata": {},
   "source": [
    "## TASK 1 – Arrays\n",
    "### Introduction\n",
    "Candidates should be able to write programs to process array data both in pseudocode and in their chosen programming language. It is suggested that each task is planned using pseudocode before writing it in program code.\n",
    "\n",
    "#### TASK 1.1\n",
    "A 1D array of STRING data type will be used to store the name of each student in a class together with\n",
    "their email address as follows:\n",
    ">        <StudentName>'#'<EmailAddress>\n",
    "\n",
    "An example string with this format would be:\n",
    "\"Eric Smythe#eric@email.com\"\n",
    "Write program code to:\n",
    "1. declare the array\n",
    "2. prompt and input name and email address\n",
    "3. form the string as shown\n",
    "4. write the string to the next array element\n",
    "5. repeat from step 2 for all students in the class\n",
    "6. output each element of the array in a suitable format, together with explanatory text such as column headings"
   ]
  },
  {
   "cell_type": "code",
   "execution_count": 1,
   "metadata": {},
   "outputs": [
    {
     "data": {
      "text/plain": [
       "['a#1', 'b#2', 'c#3']"
      ]
     },
     "execution_count": 1,
     "metadata": {},
     "output_type": "execute_result"
    }
   ],
   "source": [
    "_list = []\n",
    "numberOfStudents = 3\n",
    "for x in range(numberOfStudents):\n",
    "    name = input('Please enter your name:') \n",
    "    email = input('Please enter your email:')\n",
    "    element = name + '#' + email\n",
    "    _list.append(element)\n",
    "_list"
   ]
  },
  {
   "cell_type": "code",
   "execution_count": 2,
   "metadata": {},
   "outputs": [
    {
     "data": {
      "text/plain": [
       "7"
      ]
     },
     "execution_count": 2,
     "metadata": {},
     "output_type": "execute_result"
    }
   ],
   "source": [
    "_str = 'jupyter#jupyter@163.com#21'\n",
    "a = _str.find('#')\n",
    "a"
   ]
  },
  {
   "cell_type": "code",
   "execution_count": 29,
   "metadata": {},
   "outputs": [
    {
     "name": "stdout",
     "output_type": "stream",
     "text": [
      "name | email\n",
      "a  |  1\n",
      "b  |  2\n",
      "c  |  3\n"
     ]
    }
   ],
   "source": [
    "print('name | email')\n",
    "for i in range(len(_list)):\n",
    "    index = _list[i].find('#')\n",
    "    print(_list[i][:index],' | ',_list[i][index+1:])"
   ]
  },
  {
   "cell_type": "code",
   "execution_count": 32,
   "metadata": {},
   "outputs": [
    {
     "name": "stdout",
     "output_type": "stream",
     "text": [
      "name | email\n",
      "a  |  1\n",
      "b  |  2\n",
      "c  |  3\n"
     ]
    }
   ],
   "source": [
    "print('name | email')\n",
    "for student in _list:\n",
    "    index = student.find('#')\n",
    "    print(student[:index],' | ',student[index+1:])"
   ]
  },
  {
   "cell_type": "code",
   "execution_count": 33,
   "metadata": {},
   "outputs": [
    {
     "name": "stdout",
     "output_type": "stream",
     "text": [
      "7\n",
      "7\n",
      "-1\n"
     ]
    }
   ],
   "source": [
    "str1 = \"Runoob example....wow!!!\"\n",
    "str2 = \"exam\";\n",
    " \n",
    "print (str1.find(str2))\n",
    "print (str1.find(str2, 5))\n",
    "print (str1.find(str2, 10))"
   ]
  },
  {
   "cell_type": "markdown",
   "metadata": {},
   "source": [
    "### TASK 1.2\n",
    "Consider what happens when a student leaves the class and their data item is deleted from the array.\n",
    "Decide on a way of identifying unused array elements and only output elements that contain student\n",
    "details. Modify your program to include this."
   ]
  },
  {
   "cell_type": "code",
   "execution_count": 38,
   "metadata": {},
   "outputs": [
    {
     "name": "stdout",
     "output_type": "stream",
     "text": [
      "Find this  c#3\n"
     ]
    }
   ],
   "source": [
    "# 输入一个名字\n",
    "name_input  = input('Please enter a name for search:')\n",
    "# 在学生列表中枚举\n",
    "for s in _list:\n",
    "    # 把每个学生的名字从元素中切割出来\n",
    "    index = s.find('#')\n",
    "    name = s[:index]\n",
    "    # 如果输入的名字等于这个名字\n",
    "    if name_input == name:\n",
    "        # 打印出这个名字\n",
    "        print('Find this ',s)"
   ]
  },
  {
   "cell_type": "code",
   "execution_count": null,
   "metadata": {},
   "outputs": [],
   "source": []
  }
 ],
 "metadata": {
  "kernelspec": {
   "display_name": "Python 3",
   "language": "python",
   "name": "python3"
  },
  "language_info": {
   "codemirror_mode": {
    "name": "ipython",
    "version": 3
   },
   "file_extension": ".py",
   "mimetype": "text/x-python",
   "name": "python",
   "nbconvert_exporter": "python",
   "pygments_lexer": "ipython3",
   "version": "3.6.5"
  }
 },
 "nbformat": 4,
 "nbformat_minor": 2
}
