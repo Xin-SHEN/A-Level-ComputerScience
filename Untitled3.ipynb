{
 "cells": [
  {
   "cell_type": "code",
   "execution_count": 15,
   "metadata": {},
   "outputs": [
    {
     "name": "stdout",
     "output_type": "stream",
     "text": [
      "['a#a@163.com', 'b#b@qq.com', 'c#c@qq.com']\n"
     ]
    }
   ],
   "source": [
    "# 创建一个数组\n",
    "list = []\n",
    "\n",
    "# 获得一个用户输入\n",
    "for x in range(0,3,1):\n",
    "    line = input(\"please...\")\n",
    "    list.append(line)\n",
    "\n",
    "print(list)\n",
    "\n",
    "list.index()"
   ]
  },
  {
   "cell_type": "code",
   "execution_count": 19,
   "metadata": {},
   "outputs": [
    {
     "name": "stdout",
     "output_type": "stream",
     "text": [
      "现在把'b#b@qq.com'这个人从数组中删除，他的序号是： 1\n"
     ]
    },
    {
     "data": {
      "text/plain": [
       "['a#a@163.com', 'c#c@qq.com']"
      ]
     },
     "execution_count": 19,
     "metadata": {},
     "output_type": "execute_result"
    }
   ],
   "source": [
    "# 创建一个数组\n",
    "list = ['a#a@163.com', 'b#b@qq.com', 'c#c@qq.com']\n",
    "\n",
    "# 得到 b#b@qq.com 在列表中的序号\n",
    "index = list.index('b#b@qq.com')\n",
    "print(\"现在把'b#b@qq.com'这个人从数组中删除，他的序号是：\",index)\n",
    "\n",
    "del list[index]\n",
    "\n",
    "list"
   ]
  },
  {
   "cell_type": "code",
   "execution_count": null,
   "metadata": {},
   "outputs": [],
   "source": []
  }
 ],
 "metadata": {
  "kernelspec": {
   "display_name": "Python 3",
   "language": "python",
   "name": "python3"
  },
  "language_info": {
   "codemirror_mode": {
    "name": "ipython",
    "version": 3
   },
   "file_extension": ".py",
   "mimetype": "text/x-python",
   "name": "python",
   "nbconvert_exporter": "python",
   "pygments_lexer": "ipython3",
   "version": "3.6.5"
  }
 },
 "nbformat": 4,
 "nbformat_minor": 2
}
